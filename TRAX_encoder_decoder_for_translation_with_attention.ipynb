{
  "nbformat": 4,
  "nbformat_minor": 0,
  "metadata": {
    "colab": {
      "name": "TRAX_encoder_decoder_for_translation_with_attention.ipynb",
      "provenance": [],
      "collapsed_sections": []
    },
    "kernelspec": {
      "name": "python3",
      "display_name": "Python 3"
    },
    "language_info": {
      "name": "python"
    },
    "accelerator": "GPU"
  },
  "cells": [
    {
      "cell_type": "markdown",
      "metadata": {
        "id": "a8zkDUW99sZ3"
      },
      "source": [
        "This Colab notebook is adapted from DeepLearning. ai / Coursera assignment week 1 Course \"Natural Language Processing with Attention Models\" from Natural Language Processing Specialization \n",
        "- https://www.coursera.org/learn/attention-models-in-nlp/home/welcome\n",
        "- https://www.coursera.org/specializations/natural-language-processing"
      ]
    },
    {
      "cell_type": "markdown",
      "metadata": {
        "id": "FHe4QMsMqp02"
      },
      "source": [
        "# Neural Machine Translation using TRAX and encoder-decoder architecture\n",
        "- build an English-to-German neural machine translation (NMT) model using Long Short-Term Memory (LSTM) networks with attention.\n",
        "- Implementing this using just a Recurrent Neural Network (RNN) with LSTMs can work for short to medium length sentences but can result in vanishing gradients for very long sequences.\n",
        "- To solve this, an attention mechanism allows the decoder to access all relevant parts of the input sentence regardless of its length.\n",
        "- The model uses a encoder - decoder architecture\n",
        "- the model generates translations using greedy and Minimum Bayes Risk (MBR) decoding"
      ]
    },
    {
      "cell_type": "code",
      "metadata": {
        "colab": {
          "base_uri": "https://localhost:8080/"
        },
        "id": "lMhW2RrhqIan",
        "outputId": "24f9148d-94d4-498d-aacd-33dca871d228"
      },
      "source": [
        "from google.colab import drive\n",
        "drive.mount('/content/drive')"
      ],
      "execution_count": 2,
      "outputs": [
        {
          "output_type": "stream",
          "text": [
            "Mounted at /content/drive\n"
          ],
          "name": "stdout"
        }
      ]
    },
    {
      "cell_type": "code",
      "metadata": {
        "colab": {
          "base_uri": "https://localhost:8080/"
        },
        "id": "UfKdkue2qRrv",
        "outputId": "d135563e-e121-4d73-98ff-c67488424e54"
      },
      "source": [
        "cd \"/content/drive/My Drive/Colab Notebooks/TRAX_translation_encoder_decoder_network\""
      ],
      "execution_count": 3,
      "outputs": [
        {
          "output_type": "stream",
          "text": [
            "/content/drive/My Drive/Colab Notebooks/TRAX_translation_encoder_decoder_network\n"
          ],
          "name": "stdout"
        }
      ]
    },
    {
      "cell_type": "markdown",
      "metadata": {
        "id": "zilTTNdzqYsN"
      },
      "source": [
        "# Installing TRAX"
      ]
    },
    {
      "cell_type": "code",
      "metadata": {
        "colab": {
          "base_uri": "https://localhost:8080/"
        },
        "id": "FZ0oDu1spYOW",
        "outputId": "ccc70f49-a357-4468-e1d2-ea65513d6db5"
      },
      "source": [
        "!pip install t5==0.6.2"
      ],
      "execution_count": 4,
      "outputs": [
        {
          "output_type": "stream",
          "text": [
            "Collecting t5==0.6.2\n",
            "\u001b[?25l  Downloading https://files.pythonhosted.org/packages/9c/6b/21374c00746a960eceb23bcd679a88832f75b6fc2d6514b50d403e343140/t5-0.6.2-py3-none-any.whl (162kB)\n",
            "\u001b[K     |████████████████████████████████| 163kB 6.7MB/s \n",
            "\u001b[?25hCollecting sentencepiece\n",
            "\u001b[?25l  Downloading https://files.pythonhosted.org/packages/f5/99/e0808cb947ba10f575839c43e8fafc9cc44e4a7a2c8f79c60db48220a577/sentencepiece-0.1.95-cp37-cp37m-manylinux2014_x86_64.whl (1.2MB)\n",
            "\u001b[K     |████████████████████████████████| 1.2MB 6.3MB/s \n",
            "\u001b[?25hCollecting transformers>=2.7.0\n",
            "\u001b[?25l  Downloading https://files.pythonhosted.org/packages/81/91/61d69d58a1af1bd81d9ca9d62c90a6de3ab80d77f27c5df65d9a2c1f5626/transformers-4.5.0-py3-none-any.whl (2.1MB)\n",
            "\u001b[K     |████████████████████████████████| 2.2MB 10.2MB/s \n",
            "\u001b[?25hRequirement already satisfied: pandas in /usr/local/lib/python3.7/dist-packages (from t5==0.6.2) (1.1.5)\n",
            "Requirement already satisfied: scikit-learn in /usr/local/lib/python3.7/dist-packages (from t5==0.6.2) (0.22.2.post1)\n",
            "Requirement already satisfied: scipy in /usr/local/lib/python3.7/dist-packages (from t5==0.6.2) (1.4.1)\n",
            "Collecting tfds-nightly\n",
            "\u001b[?25l  Downloading https://files.pythonhosted.org/packages/c4/48/6c52c34fba535c111830997c62513fa9cb860e7d547b1a8e93baf5c37a07/tfds_nightly-4.2.0.dev202104070107-py3-none-any.whl (3.8MB)\n",
            "\u001b[K     |████████████████████████████████| 3.8MB 36.4MB/s \n",
            "\u001b[?25hCollecting rouge-score\n",
            "  Downloading https://files.pythonhosted.org/packages/1f/56/a81022436c08b9405a5247b71635394d44fe7e1dbedc4b28c740e09c2840/rouge_score-0.0.4-py2.py3-none-any.whl\n",
            "Requirement already satisfied: babel in /usr/local/lib/python3.7/dist-packages (from t5==0.6.2) (2.9.0)\n",
            "Requirement already satisfied: numpy in /usr/local/lib/python3.7/dist-packages (from t5==0.6.2) (1.19.5)\n",
            "Requirement already satisfied: gin-config in /usr/local/lib/python3.7/dist-packages (from t5==0.6.2) (0.4.0)\n",
            "Collecting tensorflow-text\n",
            "\u001b[?25l  Downloading https://files.pythonhosted.org/packages/b6/c0/c0fed4301f592c3b56638ae7292612c17d91a43891ba1aaf9636d535beae/tensorflow_text-2.4.3-cp37-cp37m-manylinux1_x86_64.whl (3.4MB)\n",
            "\u001b[K     |████████████████████████████████| 3.4MB 37.7MB/s \n",
            "\u001b[?25hRequirement already satisfied: nltk in /usr/local/lib/python3.7/dist-packages (from t5==0.6.2) (3.2.5)\n",
            "Collecting sacrebleu\n",
            "\u001b[?25l  Downloading https://files.pythonhosted.org/packages/7e/57/0c7ca4e31a126189dab99c19951910bd081dea5bbd25f24b77107750eae7/sacrebleu-1.5.1-py3-none-any.whl (54kB)\n",
            "\u001b[K     |████████████████████████████████| 61kB 7.4MB/s \n",
            "\u001b[?25hRequirement already satisfied: torch in /usr/local/lib/python3.7/dist-packages (from t5==0.6.2) (1.8.1+cu101)\n",
            "Requirement already satisfied: absl-py in /usr/local/lib/python3.7/dist-packages (from t5==0.6.2) (0.12.0)\n",
            "Requirement already satisfied: six>=1.14 in /usr/local/lib/python3.7/dist-packages (from t5==0.6.2) (1.15.0)\n",
            "Collecting mesh-tensorflow[transformer]>=0.1.13\n",
            "\u001b[?25l  Downloading https://files.pythonhosted.org/packages/ce/10/37df0bc87ebf84e1414613176340e3aadc3697d2bd112bf63d3d4b1e848a/mesh_tensorflow-0.1.19-py3-none-any.whl (366kB)\n",
            "\u001b[K     |████████████████████████████████| 368kB 40.1MB/s \n",
            "\u001b[?25hCollecting tokenizers<0.11,>=0.10.1\n",
            "\u001b[?25l  Downloading https://files.pythonhosted.org/packages/ae/04/5b870f26a858552025a62f1649c20d29d2672c02ff3c3fb4c688ca46467a/tokenizers-0.10.2-cp37-cp37m-manylinux2010_x86_64.whl (3.3MB)\n",
            "\u001b[K     |████████████████████████████████| 3.3MB 42.2MB/s \n",
            "\u001b[?25hRequirement already satisfied: importlib-metadata; python_version < \"3.8\" in /usr/local/lib/python3.7/dist-packages (from transformers>=2.7.0->t5==0.6.2) (3.8.1)\n",
            "Requirement already satisfied: regex!=2019.12.17 in /usr/local/lib/python3.7/dist-packages (from transformers>=2.7.0->t5==0.6.2) (2019.12.20)\n",
            "Collecting sacremoses\n",
            "\u001b[?25l  Downloading https://files.pythonhosted.org/packages/08/cd/342e584ee544d044fb573ae697404ce22ede086c9e87ce5960772084cad0/sacremoses-0.0.44.tar.gz (862kB)\n",
            "\u001b[K     |████████████████████████████████| 870kB 34.9MB/s \n",
            "\u001b[?25hRequirement already satisfied: tqdm>=4.27 in /usr/local/lib/python3.7/dist-packages (from transformers>=2.7.0->t5==0.6.2) (4.41.1)\n",
            "Requirement already satisfied: filelock in /usr/local/lib/python3.7/dist-packages (from transformers>=2.7.0->t5==0.6.2) (3.0.12)\n",
            "Requirement already satisfied: requests in /usr/local/lib/python3.7/dist-packages (from transformers>=2.7.0->t5==0.6.2) (2.23.0)\n",
            "Requirement already satisfied: packaging in /usr/local/lib/python3.7/dist-packages (from transformers>=2.7.0->t5==0.6.2) (20.9)\n",
            "Requirement already satisfied: pytz>=2017.2 in /usr/local/lib/python3.7/dist-packages (from pandas->t5==0.6.2) (2018.9)\n",
            "Requirement already satisfied: python-dateutil>=2.7.3 in /usr/local/lib/python3.7/dist-packages (from pandas->t5==0.6.2) (2.8.1)\n",
            "Requirement already satisfied: joblib>=0.11 in /usr/local/lib/python3.7/dist-packages (from scikit-learn->t5==0.6.2) (1.0.1)\n",
            "Requirement already satisfied: future in /usr/local/lib/python3.7/dist-packages (from tfds-nightly->t5==0.6.2) (0.16.0)\n",
            "Requirement already satisfied: protobuf>=3.12.2 in /usr/local/lib/python3.7/dist-packages (from tfds-nightly->t5==0.6.2) (3.12.4)\n",
            "Requirement already satisfied: typing-extensions; python_version < \"3.8\" in /usr/local/lib/python3.7/dist-packages (from tfds-nightly->t5==0.6.2) (3.7.4.3)\n",
            "Requirement already satisfied: promise in /usr/local/lib/python3.7/dist-packages (from tfds-nightly->t5==0.6.2) (2.3)\n",
            "Requirement already satisfied: tensorflow-metadata in /usr/local/lib/python3.7/dist-packages (from tfds-nightly->t5==0.6.2) (0.29.0)\n",
            "Requirement already satisfied: attrs>=18.1.0 in /usr/local/lib/python3.7/dist-packages (from tfds-nightly->t5==0.6.2) (20.3.0)\n",
            "Requirement already satisfied: importlib-resources; python_version < \"3.9\" in /usr/local/lib/python3.7/dist-packages (from tfds-nightly->t5==0.6.2) (5.1.2)\n",
            "Requirement already satisfied: termcolor in /usr/local/lib/python3.7/dist-packages (from tfds-nightly->t5==0.6.2) (1.1.0)\n",
            "Requirement already satisfied: dill in /usr/local/lib/python3.7/dist-packages (from tfds-nightly->t5==0.6.2) (0.3.3)\n",
            "Requirement already satisfied: tensorflow<2.5,>=2.4.0 in /usr/local/lib/python3.7/dist-packages (from tensorflow-text->t5==0.6.2) (2.4.1)\n",
            "Requirement already satisfied: tensorflow-hub>=0.8.0 in /usr/local/lib/python3.7/dist-packages (from tensorflow-text->t5==0.6.2) (0.11.0)\n",
            "Collecting portalocker==2.0.0\n",
            "  Downloading https://files.pythonhosted.org/packages/89/a6/3814b7107e0788040870e8825eebf214d72166adf656ba7d4bf14759a06a/portalocker-2.0.0-py2.py3-none-any.whl\n",
            "Requirement already satisfied: tensorflow-datasets; extra == \"transformer\" in /usr/local/lib/python3.7/dist-packages (from mesh-tensorflow[transformer]>=0.1.13->t5==0.6.2) (4.0.1)\n",
            "Requirement already satisfied: zipp>=0.5 in /usr/local/lib/python3.7/dist-packages (from importlib-metadata; python_version < \"3.8\"->transformers>=2.7.0->t5==0.6.2) (3.4.1)\n",
            "Requirement already satisfied: click in /usr/local/lib/python3.7/dist-packages (from sacremoses->transformers>=2.7.0->t5==0.6.2) (7.1.2)\n",
            "Requirement already satisfied: urllib3!=1.25.0,!=1.25.1,<1.26,>=1.21.1 in /usr/local/lib/python3.7/dist-packages (from requests->transformers>=2.7.0->t5==0.6.2) (1.24.3)\n",
            "Requirement already satisfied: chardet<4,>=3.0.2 in /usr/local/lib/python3.7/dist-packages (from requests->transformers>=2.7.0->t5==0.6.2) (3.0.4)\n",
            "Requirement already satisfied: certifi>=2017.4.17 in /usr/local/lib/python3.7/dist-packages (from requests->transformers>=2.7.0->t5==0.6.2) (2020.12.5)\n",
            "Requirement already satisfied: idna<3,>=2.5 in /usr/local/lib/python3.7/dist-packages (from requests->transformers>=2.7.0->t5==0.6.2) (2.10)\n",
            "Requirement already satisfied: pyparsing>=2.0.2 in /usr/local/lib/python3.7/dist-packages (from packaging->transformers>=2.7.0->t5==0.6.2) (2.4.7)\n",
            "Requirement already satisfied: setuptools in /usr/local/lib/python3.7/dist-packages (from protobuf>=3.12.2->tfds-nightly->t5==0.6.2) (54.2.0)\n",
            "Requirement already satisfied: googleapis-common-protos<2,>=1.52.0 in /usr/local/lib/python3.7/dist-packages (from tensorflow-metadata->tfds-nightly->t5==0.6.2) (1.53.0)\n",
            "Requirement already satisfied: tensorflow-estimator<2.5.0,>=2.4.0 in /usr/local/lib/python3.7/dist-packages (from tensorflow<2.5,>=2.4.0->tensorflow-text->t5==0.6.2) (2.4.0)\n",
            "Requirement already satisfied: google-pasta~=0.2 in /usr/local/lib/python3.7/dist-packages (from tensorflow<2.5,>=2.4.0->tensorflow-text->t5==0.6.2) (0.2.0)\n",
            "Requirement already satisfied: flatbuffers~=1.12.0 in /usr/local/lib/python3.7/dist-packages (from tensorflow<2.5,>=2.4.0->tensorflow-text->t5==0.6.2) (1.12)\n",
            "Requirement already satisfied: h5py~=2.10.0 in /usr/local/lib/python3.7/dist-packages (from tensorflow<2.5,>=2.4.0->tensorflow-text->t5==0.6.2) (2.10.0)\n",
            "Requirement already satisfied: grpcio~=1.32.0 in /usr/local/lib/python3.7/dist-packages (from tensorflow<2.5,>=2.4.0->tensorflow-text->t5==0.6.2) (1.32.0)\n",
            "Requirement already satisfied: tensorboard~=2.4 in /usr/local/lib/python3.7/dist-packages (from tensorflow<2.5,>=2.4.0->tensorflow-text->t5==0.6.2) (2.4.1)\n",
            "Requirement already satisfied: gast==0.3.3 in /usr/local/lib/python3.7/dist-packages (from tensorflow<2.5,>=2.4.0->tensorflow-text->t5==0.6.2) (0.3.3)\n",
            "Requirement already satisfied: astunparse~=1.6.3 in /usr/local/lib/python3.7/dist-packages (from tensorflow<2.5,>=2.4.0->tensorflow-text->t5==0.6.2) (1.6.3)\n",
            "Requirement already satisfied: wrapt~=1.12.1 in /usr/local/lib/python3.7/dist-packages (from tensorflow<2.5,>=2.4.0->tensorflow-text->t5==0.6.2) (1.12.1)\n",
            "Requirement already satisfied: wheel~=0.35 in /usr/local/lib/python3.7/dist-packages (from tensorflow<2.5,>=2.4.0->tensorflow-text->t5==0.6.2) (0.36.2)\n",
            "Requirement already satisfied: keras-preprocessing~=1.1.2 in /usr/local/lib/python3.7/dist-packages (from tensorflow<2.5,>=2.4.0->tensorflow-text->t5==0.6.2) (1.1.2)\n",
            "Requirement already satisfied: opt-einsum~=3.3.0 in /usr/local/lib/python3.7/dist-packages (from tensorflow<2.5,>=2.4.0->tensorflow-text->t5==0.6.2) (3.3.0)\n",
            "Requirement already satisfied: dm-tree in /usr/local/lib/python3.7/dist-packages (from tensorflow-datasets; extra == \"transformer\"->mesh-tensorflow[transformer]>=0.1.13->t5==0.6.2) (0.1.5)\n",
            "Requirement already satisfied: google-auth-oauthlib<0.5,>=0.4.1 in /usr/local/lib/python3.7/dist-packages (from tensorboard~=2.4->tensorflow<2.5,>=2.4.0->tensorflow-text->t5==0.6.2) (0.4.3)\n",
            "Requirement already satisfied: tensorboard-plugin-wit>=1.6.0 in /usr/local/lib/python3.7/dist-packages (from tensorboard~=2.4->tensorflow<2.5,>=2.4.0->tensorflow-text->t5==0.6.2) (1.8.0)\n",
            "Requirement already satisfied: google-auth<2,>=1.6.3 in /usr/local/lib/python3.7/dist-packages (from tensorboard~=2.4->tensorflow<2.5,>=2.4.0->tensorflow-text->t5==0.6.2) (1.28.0)\n",
            "Requirement already satisfied: markdown>=2.6.8 in /usr/local/lib/python3.7/dist-packages (from tensorboard~=2.4->tensorflow<2.5,>=2.4.0->tensorflow-text->t5==0.6.2) (3.3.4)\n",
            "Requirement already satisfied: werkzeug>=0.11.15 in /usr/local/lib/python3.7/dist-packages (from tensorboard~=2.4->tensorflow<2.5,>=2.4.0->tensorflow-text->t5==0.6.2) (1.0.1)\n",
            "Requirement already satisfied: requests-oauthlib>=0.7.0 in /usr/local/lib/python3.7/dist-packages (from google-auth-oauthlib<0.5,>=0.4.1->tensorboard~=2.4->tensorflow<2.5,>=2.4.0->tensorflow-text->t5==0.6.2) (1.3.0)\n",
            "Requirement already satisfied: rsa<5,>=3.1.4; python_version >= \"3.6\" in /usr/local/lib/python3.7/dist-packages (from google-auth<2,>=1.6.3->tensorboard~=2.4->tensorflow<2.5,>=2.4.0->tensorflow-text->t5==0.6.2) (4.7.2)\n",
            "Requirement already satisfied: cachetools<5.0,>=2.0.0 in /usr/local/lib/python3.7/dist-packages (from google-auth<2,>=1.6.3->tensorboard~=2.4->tensorflow<2.5,>=2.4.0->tensorflow-text->t5==0.6.2) (4.2.1)\n",
            "Requirement already satisfied: pyasn1-modules>=0.2.1 in /usr/local/lib/python3.7/dist-packages (from google-auth<2,>=1.6.3->tensorboard~=2.4->tensorflow<2.5,>=2.4.0->tensorflow-text->t5==0.6.2) (0.2.8)\n",
            "Requirement already satisfied: oauthlib>=3.0.0 in /usr/local/lib/python3.7/dist-packages (from requests-oauthlib>=0.7.0->google-auth-oauthlib<0.5,>=0.4.1->tensorboard~=2.4->tensorflow<2.5,>=2.4.0->tensorflow-text->t5==0.6.2) (3.1.0)\n",
            "Requirement already satisfied: pyasn1>=0.1.3 in /usr/local/lib/python3.7/dist-packages (from rsa<5,>=3.1.4; python_version >= \"3.6\"->google-auth<2,>=1.6.3->tensorboard~=2.4->tensorflow<2.5,>=2.4.0->tensorflow-text->t5==0.6.2) (0.4.8)\n",
            "Building wheels for collected packages: sacremoses\n",
            "  Building wheel for sacremoses (setup.py) ... \u001b[?25l\u001b[?25hdone\n",
            "  Created wheel for sacremoses: filename=sacremoses-0.0.44-cp37-none-any.whl size=886084 sha256=2f8c60ca81b2924fb66e97a480e01c11279c286a5efe432ee0f5cd3690ff3a67\n",
            "  Stored in directory: /root/.cache/pip/wheels/3e/fb/c0/13ab4d63d537658f448366744654323077c4d90069b6512f3c\n",
            "Successfully built sacremoses\n",
            "Installing collected packages: sentencepiece, tokenizers, sacremoses, transformers, tfds-nightly, rouge-score, tensorflow-text, portalocker, sacrebleu, mesh-tensorflow, t5\n",
            "Successfully installed mesh-tensorflow-0.1.19 portalocker-2.0.0 rouge-score-0.0.4 sacrebleu-1.5.1 sacremoses-0.0.44 sentencepiece-0.1.95 t5-0.6.2 tensorflow-text-2.4.3 tfds-nightly-4.2.0.dev202104070107 tokenizers-0.10.2 transformers-4.5.0\n"
          ],
          "name": "stdout"
        }
      ]
    },
    {
      "cell_type": "code",
      "metadata": {
        "id": "_T7DhSkiuEzu",
        "colab": {
          "base_uri": "https://localhost:8080/"
        },
        "outputId": "b6d1ef5e-aa63-40d7-f7c7-4cc0abaeae32"
      },
      "source": [
        "!pip install -q -U trax==1.3.4"
      ],
      "execution_count": 5,
      "outputs": [
        {
          "output_type": "stream",
          "text": [
            "\u001b[K     |████████████████████████████████| 368kB 6.6MB/s \n",
            "\u001b[K     |████████████████████████████████| 1.5MB 40.7MB/s \n",
            "\u001b[K     |████████████████████████████████| 655kB 37.7MB/s \n",
            "\u001b[K     |████████████████████████████████| 706kB 38.9MB/s \n",
            "\u001b[K     |████████████████████████████████| 358kB 35.9MB/s \n",
            "\u001b[K     |████████████████████████████████| 378kB 38.5MB/s \n",
            "\u001b[K     |████████████████████████████████| 983kB 39.9MB/s \n",
            "\u001b[K     |████████████████████████████████| 194kB 40.0MB/s \n",
            "\u001b[K     |████████████████████████████████| 368kB 39.3MB/s \n",
            "\u001b[K     |████████████████████████████████| 5.6MB 37.8MB/s \n",
            "\u001b[K     |████████████████████████████████| 256kB 40.7MB/s \n",
            "\u001b[?25h  Building wheel for pypng (setup.py) ... \u001b[?25l\u001b[?25hdone\n",
            "  Building wheel for gunicorn (setup.py) ... \u001b[?25l\u001b[?25hdone\n",
            "  Building wheel for bz2file (setup.py) ... \u001b[?25l\u001b[?25hdone\n",
            "\u001b[31mERROR: kfac 0.2.3 has requirement tensorflow-probability==0.8, but you'll have tensorflow-probability 0.7.0 which is incompatible.\u001b[0m\n"
          ],
          "name": "stdout"
        }
      ]
    },
    {
      "cell_type": "markdown",
      "metadata": {
        "id": "Zi2QmJ-7qiiW"
      },
      "source": [
        "# Load packages\n",
        "- Please note that Trax Numpy is referred to as fastnp while numpy remains as np"
      ]
    },
    {
      "cell_type": "code",
      "metadata": {
        "colab": {
          "base_uri": "https://localhost:8080/"
        },
        "id": "79dIm_OyqWXf",
        "outputId": "f17f7d1c-bda1-432e-987b-e4c8e1632941"
      },
      "source": [
        "from termcolor import colored\n",
        "import random\n",
        "import numpy as np\n",
        "from collections import Counter\n",
        "\n",
        "import trax\n",
        "from trax import layers as tl\n",
        "from trax.fastmath import numpy as fastnp\n",
        "from trax.supervised import training\n",
        "\n",
        "!pip list | grep trax"
      ],
      "execution_count": 6,
      "outputs": [
        {
          "output_type": "stream",
          "text": [
            "INFO:tensorflow:tokens_length=568 inputs_length=512 targets_length=114 noise_density=0.15 mean_noise_span_length=3.0 \n"
          ],
          "name": "stdout"
        },
        {
          "output_type": "stream",
          "text": [
            "WARNING:root:Argument blacklist is deprecated. Please use denylist.\n",
            "WARNING:root:Argument blacklist is deprecated. Please use denylist.\n",
            "WARNING:root:Argument blacklist is deprecated. Please use denylist.\n",
            "WARNING:root:Argument blacklist is deprecated. Please use denylist.\n",
            "WARNING:root:Argument blacklist is deprecated. Please use denylist.\n",
            "WARNING:root:Argument blacklist is deprecated. Please use denylist.\n",
            "WARNING:root:Argument blacklist is deprecated. Please use denylist.\n",
            "WARNING:root:Argument blacklist is deprecated. Please use denylist.\n",
            "WARNING:root:Argument blacklist is deprecated. Please use denylist.\n",
            "WARNING:root:Argument blacklist is deprecated. Please use denylist.\n",
            "WARNING:root:Argument blacklist is deprecated. Please use denylist.\n",
            "WARNING:root:Argument blacklist is deprecated. Please use denylist.\n",
            "WARNING:root:Argument blacklist is deprecated. Please use denylist.\n",
            "WARNING:root:Argument blacklist is deprecated. Please use denylist.\n",
            "WARNING:root:Argument blacklist is deprecated. Please use denylist.\n",
            "WARNING:root:Argument blacklist is deprecated. Please use denylist.\n",
            "WARNING:root:Argument blacklist is deprecated. Please use denylist.\n",
            "WARNING:root:Argument blacklist is deprecated. Please use denylist.\n",
            "WARNING:root:Argument blacklist is deprecated. Please use denylist.\n",
            "WARNING:root:Argument blacklist is deprecated. Please use denylist.\n",
            "WARNING:root:Argument blacklist is deprecated. Please use denylist.\n",
            "WARNING:root:Argument blacklist is deprecated. Please use denylist.\n",
            "WARNING:root:Argument blacklist is deprecated. Please use denylist.\n",
            "WARNING:root:Argument blacklist is deprecated. Please use denylist.\n",
            "WARNING:root:Argument blacklist is deprecated. Please use denylist.\n"
          ],
          "name": "stderr"
        },
        {
          "output_type": "stream",
          "text": [
            "trax                          1.3.4                \n"
          ],
          "name": "stdout"
        }
      ]
    },
    {
      "cell_type": "markdown",
      "metadata": {
        "id": "JsVbyP5i-iau"
      },
      "source": [
        "# Load Dataset\n",
        "- English to German translation subset specified as opus/medical which has medical related texts\n",
        "- you can opt to get other corpus such as the English to German translation dataset from ParaCrawl, a large multi-lingual translation dataset created by the European Union. Both of these datasets are available via Tensorflow Datasets (TFDS) and you can browse through the other available datasets here.\n",
        "- https://www.tensorflow.org/datasets/catalog/opus\n",
        "- https://opus.nlpl.eu/"
      ]
    },
    {
      "cell_type": "code",
      "metadata": {
        "id": "NNg6gqOMqWUv"
      },
      "source": [
        "# Get generator function for the training set\n",
        "# This will download the train dataset if no data_dir is specified.\n",
        "train_stream_fn = trax.data.TFDS('opus/medical',\n",
        "                                 data_dir='./data/',\n",
        "                                 keys=('en', 'de'),\n",
        "                                 eval_holdout_size=0.01, # 1% for eval\n",
        "                                 train=True)\n",
        "\n",
        "# Get generator function for the eval set\n",
        "eval_stream_fn = trax.data.TFDS('opus/medical',\n",
        "                                data_dir='./data/',\n",
        "                                keys=('en', 'de'),\n",
        "                                eval_holdout_size=0.01, # 1% for eval\n",
        "                                train=False)"
      ],
      "execution_count": 7,
      "outputs": []
    },
    {
      "cell_type": "code",
      "metadata": {
        "colab": {
          "base_uri": "https://localhost:8080/"
        },
        "id": "SvLJrQukqWR2",
        "outputId": "bff24eb9-b5ae-4d7b-93b0-fdd4f09a0f23"
      },
      "source": [
        "train_stream = train_stream_fn()\n",
        "print(colored('train data (en, de) tuple:', 'red'), next(train_stream))\n",
        "print()\n",
        "\n",
        "eval_stream = eval_stream_fn()\n",
        "print(colored('eval data (en, de) tuple:', 'red'), next(eval_stream))"
      ],
      "execution_count": 8,
      "outputs": [
        {
          "output_type": "stream",
          "text": [
            "\u001b[31mtrain data (en, de) tuple:\u001b[0m (b'In the pregnant rat the AUC for calculated free drug at this dose was approximately 18 times the human AUC at a 20 mg dose.\\n', b'Bei tr\\xc3\\xa4chtigen Ratten war die AUC f\\xc3\\xbcr die berechnete ungebundene Substanz bei dieser Dosis etwa 18-mal h\\xc3\\xb6her als die AUC beim Menschen bei einer 20 mg Dosis.\\n')\n",
            "\n",
            "\u001b[31meval data (en, de) tuple:\u001b[0m (b'Lutropin alfa Subcutaneous use.\\n', b'Pulver zur Injektion Lutropin alfa Subkutane Anwendung\\n')\n"
          ],
          "name": "stdout"
        }
      ]
    },
    {
      "cell_type": "markdown",
      "metadata": {
        "id": "b_cb4Na6xP-f"
      },
      "source": [
        "# Tokenization"
      ]
    },
    {
      "cell_type": "code",
      "metadata": {
        "id": "MhMbN1JWqWPo"
      },
      "source": [
        "# global variables that state the filename and directory of the vocabulary file\n",
        "VOCAB_FILE = 'ende_32k.subword'\n",
        "VOCAB_DIR = 'data/'\n",
        "\n",
        "# Tokenize the dataset.\n",
        "tokenized_train_stream = trax.data.Tokenize(vocab_file=VOCAB_FILE, vocab_dir=VOCAB_DIR)(train_stream)\n",
        "tokenized_eval_stream = trax.data.Tokenize(vocab_file=VOCAB_FILE, vocab_dir=VOCAB_DIR)(eval_stream)"
      ],
      "execution_count": 9,
      "outputs": []
    },
    {
      "cell_type": "code",
      "metadata": {
        "id": "mxk32V-QqWMu"
      },
      "source": [
        "# Append EOS at the end of each sentence.\n",
        "\n",
        "# Integer assigned as end-of-sentence (EOS)\n",
        "EOS = 1\n",
        "\n",
        "# generator helper function to append EOS to each sentence\n",
        "def append_eos(stream):\n",
        "    for (inputs, targets) in stream:\n",
        "        inputs_with_eos = list(inputs) + [EOS]\n",
        "        targets_with_eos = list(targets) + [EOS]\n",
        "        yield np.array(inputs_with_eos), np.array(targets_with_eos)\n",
        "\n",
        "# append EOS to the train data\n",
        "tokenized_train_stream = append_eos(tokenized_train_stream)\n",
        "\n",
        "# append EOS to the eval data\n",
        "tokenized_eval_stream = append_eos(tokenized_eval_stream)"
      ],
      "execution_count": 10,
      "outputs": []
    },
    {
      "cell_type": "code",
      "metadata": {
        "colab": {
          "base_uri": "https://localhost:8080/"
        },
        "id": "3kh4UYlgqWKZ",
        "outputId": "87e478e0-d4c4-4d69-e5c5-8c1a7b3b9989"
      },
      "source": [
        "# Filter too long sentences to not run out of memory.\n",
        "# length_keys=[0, 1] means we filter both English and German sentences, so both much be not longer that 256 tokens for training / 512 for eval.\n",
        "filtered_train_stream = trax.data.FilterByLength(max_length=256, length_keys=[0, 1])(tokenized_train_stream)\n",
        "filtered_eval_stream = trax.data.FilterByLength(max_length=512, length_keys=[0, 1])(tokenized_eval_stream)\n",
        "\n",
        "# print a sample input-target pair of tokenized sentences\n",
        "train_input, train_target = next(filtered_train_stream)\n",
        "print(colored(f'Single tokenized example input:', 'red' ), train_input)\n",
        "print(colored(f'Single tokenized example target:', 'red'), train_target)"
      ],
      "execution_count": 11,
      "outputs": [
        {
          "output_type": "stream",
          "text": [
            "\u001b[31mSingle tokenized example input:\u001b[0m [ 8569  4094  2679 32826 22527     5 30650  4729   992     1]\n",
            "\u001b[31mSingle tokenized example target:\u001b[0m [12647 19749    70 32826 10008     5 30650  4729   992     1]\n"
          ],
          "name": "stdout"
        }
      ]
    },
    {
      "cell_type": "markdown",
      "metadata": {
        "id": "mPWPI7RWxdAu"
      },
      "source": [
        "# Helper functions : Tokenize sentences / detokenize to sentence"
      ]
    },
    {
      "cell_type": "code",
      "metadata": {
        "id": "AH8farZ7qWIA"
      },
      "source": [
        "# Setup helper functions for tokenizing and detokenizing sentences\n",
        "\n",
        "def tokenize(input_str, vocab_file=None, vocab_dir=None):\n",
        "    \"\"\"Encodes a string to an array of integers\n",
        "\n",
        "    Args:\n",
        "        input_str (str): human-readable string to encode\n",
        "        vocab_file (str): filename of the vocabulary text file\n",
        "        vocab_dir (str): path to the vocabulary file\n",
        "  \n",
        "    Returns:\n",
        "        numpy.ndarray: tokenized version of the input string\n",
        "    \"\"\"\n",
        "    \n",
        "    # Set the encoding of the \"end of sentence\" as 1\n",
        "    EOS = 1\n",
        "    \n",
        "    # Use the trax.data.tokenize method. It takes streams and returns streams,\n",
        "    # we get around it by making a 1-element stream with `iter`.\n",
        "    inputs =  next(trax.data.tokenize(iter([input_str]), vocab_file=vocab_file, vocab_dir=vocab_dir))\n",
        "    \n",
        "    # Mark the end of the sentence with EOS\n",
        "    inputs = list(inputs) + [EOS]\n",
        "    \n",
        "    # Adding the batch dimension to the front of the shape\n",
        "    batch_inputs = np.reshape(np.array(inputs), [1, -1])\n",
        "    \n",
        "    return batch_inputs\n",
        "\n",
        "\n",
        "def detokenize(integers, vocab_file=None, vocab_dir=None):\n",
        "    \"\"\"Decodes an array of integers to a human readable string\n",
        "\n",
        "    Args:\n",
        "        integers (numpy.ndarray): array of integers to decode\n",
        "        vocab_file (str): filename of the vocabulary text file\n",
        "        vocab_dir (str): path to the vocabulary file\n",
        "  \n",
        "    Returns:\n",
        "        str: the decoded sentence.\n",
        "    \"\"\"\n",
        "    \n",
        "    # Remove the dimensions of size 1\n",
        "    integers = list(np.squeeze(integers))\n",
        "    \n",
        "    # Set the encoding of the \"end of sentence\" as 1\n",
        "    EOS = 1\n",
        "    \n",
        "    # Remove the EOS to decode only the original tokens\n",
        "    if EOS in integers:\n",
        "        integers = integers[:integers.index(EOS)] \n",
        "    \n",
        "    return trax.data.detokenize(integers, vocab_file=vocab_file, vocab_dir=vocab_dir)"
      ],
      "execution_count": 12,
      "outputs": []
    },
    {
      "cell_type": "code",
      "metadata": {
        "colab": {
          "base_uri": "https://localhost:8080/"
        },
        "id": "Sj7sCdpvqWE3",
        "outputId": "c44a6b0b-e0c4-4b62-b0d9-b694497a7c30"
      },
      "source": [
        "# Detokenize an input-target pair of tokenized sentences\n",
        "print(colored(f'Single detokenized example input:', 'red'), detokenize(train_input, vocab_file=VOCAB_FILE, vocab_dir=VOCAB_DIR))\n",
        "print(colored(f'Single detokenized example target:', 'red'), detokenize(train_target, vocab_file=VOCAB_FILE, vocab_dir=VOCAB_DIR))\n",
        "print()\n",
        "\n",
        "# Tokenize and detokenize a word that is not explicitly saved in the vocabulary file.\n",
        "# See how it combines the subwords -- 'hell' and 'o'-- to form the word 'hello'.\n",
        "print(colored(f\"tokenize('hello'): \", 'green'), tokenize('hello', vocab_file=VOCAB_FILE, vocab_dir=VOCAB_DIR))\n",
        "print(colored(f\"detokenize([17332, 140, 1]): \", 'green'), detokenize([17332, 140, 1], vocab_file=VOCAB_FILE, vocab_dir=VOCAB_DIR))"
      ],
      "execution_count": 13,
      "outputs": [
        {
          "output_type": "stream",
          "text": [
            "\u001b[31mSingle detokenized example input:\u001b[0m Decreased Appetite\n",
            "\n",
            "\u001b[31mSingle detokenized example target:\u001b[0m Verminderter Appetit\n",
            "\n",
            "\n",
            "\u001b[32mtokenize('hello'): \u001b[0m [[17332   140     1]]\n",
            "\u001b[32mdetokenize([17332, 140, 1]): \u001b[0m hello\n"
          ],
          "name": "stdout"
        }
      ]
    },
    {
      "cell_type": "markdown",
      "metadata": {
        "id": "joFzyw9Gxp2n"
      },
      "source": [
        "# Bucketing of batches\n",
        "- Bucketing the tokenized sentences is an important technique used to speed up training in NLP. Our inputs have variable lengths and you want to make these the same when batching groups of sentences together. One way to do that is to pad each sentence to the length of the longest sentence in the dataset. This might lead to some wasted computation though. Instead of padding with 0s to the maximum length of a sentence each time, we can group our tokenized sentences by length and bucket\n",
        "![alt text](https://miro.medium.com/max/700/1*hcGuja_d5Z_rFcgwe9dPow.png)"
      ]
    },
    {
      "cell_type": "code",
      "metadata": {
        "id": "JkBvVAfJqWCV"
      },
      "source": [
        "# Bucketing to create streams of batches.\n",
        "\n",
        "# Buckets are defined in terms of boundaries and batch sizes.\n",
        "# Batch_sizes[i] determines the batch size for items with length < boundaries[i]\n",
        "# So below, we'll take a batch of 256 sentences of length < 8, 128 if length is between 8 and 16, and so on -- and only 2 if length is over 512.\n",
        "boundaries =  [8,   16,  32, 64, 128, 256, 512]\n",
        "batch_sizes = [256, 128, 64, 32, 16,    8,   4,  2]\n",
        "\n",
        "# Create the generators.\n",
        "train_batch_stream = trax.data.BucketByLength(\n",
        "    boundaries, batch_sizes,\n",
        "    length_keys=[0, 1]  # As before: count inputs and targets to length.\n",
        ")(filtered_train_stream)\n",
        "\n",
        "eval_batch_stream = trax.data.BucketByLength(\n",
        "    boundaries, batch_sizes,\n",
        "    length_keys=[0, 1]  # As before: count inputs and targets to length.\n",
        ")(filtered_eval_stream)\n",
        "\n",
        "# Add masking for the padding (0s).\n",
        "train_batch_stream = trax.data.AddLossWeights(id_to_mask=0)(train_batch_stream)\n",
        "eval_batch_stream = trax.data.AddLossWeights(id_to_mask=0)(eval_batch_stream)"
      ],
      "execution_count": 14,
      "outputs": []
    },
    {
      "cell_type": "markdown",
      "metadata": {
        "id": "0TkZHmPVxzv2"
      },
      "source": [
        "# Explore dataset"
      ]
    },
    {
      "cell_type": "code",
      "metadata": {
        "colab": {
          "base_uri": "https://localhost:8080/"
        },
        "id": "DGJHxZzAqV_w",
        "outputId": "c8ccd2c2-daf6-4ebe-b8d2-412efb6d61c3"
      },
      "source": [
        "input_batch, target_batch, mask_batch = next(train_batch_stream)\n",
        "\n",
        "# let's see the data type of a batch\n",
        "print(\"input_batch data type: \", type(input_batch))\n",
        "print(\"target_batch data type: \", type(target_batch))\n",
        "\n",
        "# let's see the shape of this particular batch (batch length, sentence length)\n",
        "print(\"input_batch shape: \", input_batch.shape)\n",
        "print(\"target_batch shape: \", target_batch.shape)"
      ],
      "execution_count": 15,
      "outputs": [
        {
          "output_type": "stream",
          "text": [
            "input_batch data type:  <class 'numpy.ndarray'>\n",
            "target_batch data type:  <class 'numpy.ndarray'>\n",
            "input_batch shape:  (32, 64)\n",
            "target_batch shape:  (32, 64)\n"
          ],
          "name": "stdout"
        }
      ]
    },
    {
      "cell_type": "code",
      "metadata": {
        "colab": {
          "base_uri": "https://localhost:8080/"
        },
        "id": "1lNS-pf20F4H",
        "outputId": "db61cfeb-6b1d-43d6-8b61-966dbe9cc3df"
      },
      "source": [
        "mask_batch.shape"
      ],
      "execution_count": 16,
      "outputs": [
        {
          "output_type": "execute_result",
          "data": {
            "text/plain": [
              "(32, 64)"
            ]
          },
          "metadata": {
            "tags": []
          },
          "execution_count": 16
        }
      ]
    },
    {
      "cell_type": "code",
      "metadata": {
        "colab": {
          "base_uri": "https://localhost:8080/"
        },
        "id": "Wi1Kq_JiqV9F",
        "outputId": "58d016d6-87f7-404f-a9a4-0ea639322219"
      },
      "source": [
        "# pick a random index less than the batch size.\n",
        "index = random.randrange(len(input_batch))\n",
        "\n",
        "# use the index to grab an entry from the input and target batch\n",
        "print(colored('THIS IS THE ENGLISH SENTENCE: \\n', 'red'), detokenize(input_batch[index], vocab_file=VOCAB_FILE, vocab_dir=VOCAB_DIR), '\\n')\n",
        "print(colored('THIS IS THE TOKENIZED VERSION OF THE ENGLISH SENTENCE: \\n ', 'red'), input_batch[index], '\\n')\n",
        "print(colored('THIS IS THE GERMAN TRANSLATION: \\n', 'red'), detokenize(target_batch[index], vocab_file=VOCAB_FILE, vocab_dir=VOCAB_DIR), '\\n')\n",
        "print(colored('THIS IS THE TOKENIZED VERSION OF THE GERMAN TRANSLATION: \\n', 'red'), target_batch[index], '\\n')"
      ],
      "execution_count": 17,
      "outputs": [
        {
          "output_type": "stream",
          "text": [
            "\u001b[31mTHIS IS THE ENGLISH SENTENCE: \n",
            "\u001b[0m Contact your doctor immediately if you become pregnant, think you might be pregnant or are planning to become pregnant while taking LYRICA.\n",
            " \n",
            "\n",
            "\u001b[31mTHIS IS THE TOKENIZED VERSION OF THE ENGLISH SENTENCE: \n",
            " \u001b[0m [21758   139  8937  2626   175    72   449  3678 17363     2   597    72\n",
            "   616    32  3678 17363    66    31  3376     9   449  3678 17363   459\n",
            "   981  2474  4318 31318   176  3550 30650  4729   992     1     0     0\n",
            "     0     0     0     0     0     0     0     0     0     0     0     0\n",
            "     0     0     0     0     0     0     0     0     0     0     0     0\n",
            "     0     0     0     0] \n",
            "\n",
            "\u001b[31mTHIS IS THE GERMAN TRANSLATION: \n",
            "\u001b[0m Suchen Sie sofort Ihren Arzt auf, wenn Sie während der Behandlung mit LYRICA schwanger werden, glauben schwanger zu sein oder eine Schwangerschaft planen.\n",
            " \n",
            "\n",
            "\u001b[31mTHIS IS THE TOKENIZED VERSION OF THE GERMAN TRANSLATION: \n",
            "\u001b[0m [15775    23    67  5210  1786 32806    37     2   157    67   408    11\n",
            "  3544    39  2474  4318 31318   176 16718 16989    58     2  3294 16718\n",
            " 16989    18   171    97    41 21145  3393  2121 11011  3550 30650  4729\n",
            "   992     1     0     0     0     0     0     0     0     0     0     0\n",
            "     0     0     0     0     0     0     0     0     0     0     0     0\n",
            "     0     0     0     0] \n",
            "\n"
          ],
          "name": "stdout"
        }
      ]
    },
    {
      "cell_type": "markdown",
      "metadata": {
        "id": "J_UCxNDS0J7u"
      },
      "source": [
        "# Neural Machine Translation with Attention\n",
        "- helper functions"
      ]
    },
    {
      "cell_type": "markdown",
      "metadata": {
        "id": "za-QHfmC1vMv"
      },
      "source": [
        "![input_encoder.png](data:image/png;base64,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)"
      ]
    },
    {
      "cell_type": "code",
      "metadata": {
        "id": "0EnmWvYfqV6e"
      },
      "source": [
        "def input_encoder_fn(input_vocab_size, d_model, n_encoder_layers):\n",
        "    \"\"\" Input encoder runs on the input sentence and creates\n",
        "    activations that will be the keys and values for attention.\n",
        "    \n",
        "    Args:\n",
        "        input_vocab_size: int: vocab size of the input\n",
        "        d_model: int:  depth of embedding (n_units in the LSTM cell)\n",
        "        n_encoder_layers: int: number of LSTM layers in the encoder\n",
        "    Returns:\n",
        "        tl.Serial: The input encoder\n",
        "    \"\"\"\n",
        "    \n",
        "    # create a serial network\n",
        "    input_encoder = tl.Serial( \n",
        "        \n",
        "        ### START CODE HERE (REPLACE INSTANCES OF `None` WITH YOUR CODE) ###\n",
        "        # create an embedding layer to convert tokens to vectors\n",
        "        tl.Embedding(vocab_size = input_vocab_size, d_feature = d_model),\n",
        "        \n",
        "        # feed the embeddings to the LSTM layers. It is a stack of n_encoder_layers LSTM layers\n",
        "        [tl.LSTM(n_units = d_model) for _ in range(n_encoder_layers)]\n",
        "        ### END CODE HERE ###\n",
        "    )\n",
        "\n",
        "    return input_encoder"
      ],
      "execution_count": 18,
      "outputs": []
    },
    {
      "cell_type": "markdown",
      "metadata": {
        "id": "JfMnYlb01yBN"
      },
      "source": [
        "![pre_attention_decoder.png](data:image/png;base64,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)"
      ]
    },
    {
      "cell_type": "code",
      "metadata": {
        "id": "Bib82rFWqV33"
      },
      "source": [
        "def pre_attention_decoder_fn(mode, target_vocab_size, d_model):\n",
        "    \"\"\" Pre-attention decoder runs on the targets and creates\n",
        "    activations that are used as queries in attention.\n",
        "    \n",
        "    Args:\n",
        "        mode: str: 'train' or 'eval'\n",
        "        target_vocab_size: int: vocab size of the target\n",
        "        d_model: int:  depth of embedding (n_units in the LSTM cell)\n",
        "    Returns:\n",
        "        tl.Serial: The pre-attention decoder\n",
        "    \"\"\"\n",
        "    \n",
        "    # create a serial network\n",
        "    pre_attention_decoder = tl.Serial(\n",
        "        \n",
        "        ### START CODE HERE (REPLACE INSTANCES OF `None` WITH YOUR CODE) ###\n",
        "        # shift right to insert start-of-sentence token and implement\n",
        "        # teacher forcing during training\n",
        "        tl.ShiftRight(n_shifts=1, mode=mode),\n",
        "\n",
        "        # run an embedding layer to convert tokens to vectors\n",
        "        tl.Embedding(target_vocab_size, d_model),\n",
        "\n",
        "        # feed to an LSTM layer\n",
        "        tl.LSTM(d_model)\n",
        "        ### END CODE HERE ###\n",
        "    )\n",
        "    \n",
        "    return pre_attention_decoder"
      ],
      "execution_count": 19,
      "outputs": []
    },
    {
      "cell_type": "code",
      "metadata": {
        "id": "k6OWI-l5qV1J"
      },
      "source": [
        "def prepare_attention_input(encoder_activations, decoder_activations, inputs):\n",
        "    \"\"\"Prepare queries, keys, values and mask for attention.\n",
        "    \n",
        "    Args:\n",
        "        encoder_activations fastnp.array(batch_size, padded_input_length, d_model): output from the input encoder\n",
        "        decoder_activations fastnp.array(batch_size, padded_input_length, d_model): output from the pre-attention decoder\n",
        "        inputs fastnp.array(batch_size, padded_input_length): padded input tokens\n",
        "    \n",
        "    Returns:\n",
        "        queries, keys, values and mask for attention.\n",
        "    \"\"\"\n",
        "    \n",
        "    ### START CODE HERE (REPLACE INSTANCES OF `None` WITH YOUR CODE) ###\n",
        "    \n",
        "    # set the keys and values to the encoder activations\n",
        "    keys = encoder_activations\n",
        "    values = encoder_activations\n",
        "\n",
        "    \n",
        "    # set the queries to the decoder activations\n",
        "    queries = decoder_activations\n",
        "    \n",
        "    # generate the mask to distinguish real tokens from padding\n",
        "    # hint: inputs is 1 for real tokens and 0 where they are padding\n",
        "    mask= inputs != 0\n",
        "    \n",
        "    ### END CODE HERE ###\n",
        "    \n",
        "    # add axes to the mask for attention heads and decoder length.\n",
        "    mask = fastnp.reshape(mask, (mask.shape[0], 1, 1, mask.shape[1]))\n",
        "    \n",
        "    # broadcast so mask shape is [batch size, attention heads, decoder-len, encoder-len].\n",
        "    # note: for this assignment, attention heads is set to 1.\n",
        "    mask = mask + fastnp.zeros((1, 1, decoder_activations.shape[1], 1))\n",
        "        \n",
        "    \n",
        "    return queries, keys, values, mask"
      ],
      "execution_count": 20,
      "outputs": []
    },
    {
      "cell_type": "markdown",
      "metadata": {
        "id": "bLVAFyUd0jvF"
      },
      "source": [
        "## Implementation Overview\n",
        "\n",
        "- sequence-to-sequence model with attention. This will be a Serial network and is illustrated in the diagram below.\n",
        "![NMTModel.png](data:image/png;base64,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)"
      ]
    },
    {
      "cell_type": "code",
      "metadata": {
        "id": "oFY84NuaqVyn"
      },
      "source": [
        "def NMTAttn(input_vocab_size=33300,\n",
        "            target_vocab_size=33300,\n",
        "            d_model=1024,\n",
        "            n_encoder_layers=2,\n",
        "            n_decoder_layers=2,\n",
        "            n_attention_heads=4,\n",
        "            attention_dropout=0.0,\n",
        "            mode='train'):\n",
        "    \"\"\"Returns an LSTM sequence-to-sequence model with attention.\n",
        "\n",
        "    The input to the model is a pair (input tokens, target tokens), e.g.,\n",
        "    an English sentence (tokenized) and its translation into German (tokenized).\n",
        "\n",
        "    Args:\n",
        "    input_vocab_size: int: vocab size of the input\n",
        "    target_vocab_size: int: vocab size of the target\n",
        "    d_model: int:  depth of embedding (n_units in the LSTM cell)\n",
        "    n_encoder_layers: int: number of LSTM layers in the encoder\n",
        "    n_decoder_layers: int: number of LSTM layers in the decoder after attention\n",
        "    n_attention_heads: int: number of attention heads\n",
        "    attention_dropout: float, dropout for the attention layer\n",
        "    mode: str: 'train', 'eval' or 'predict', predict mode is for fast inference\n",
        "\n",
        "    Returns:\n",
        "    A LSTM sequence-to-sequence model with attention.\n",
        "    \"\"\"\n",
        "\n",
        "    ### START CODE HERE (REPLACE INSTANCES OF `None` WITH YOUR CODE) ###\n",
        "    \n",
        "    # Step 0: call the helper function to create layers for the input encoder\n",
        "    input_encoder = input_encoder_fn(input_vocab_size, d_model, n_encoder_layers)\n",
        "\n",
        "    # Step 0: call the helper function to create layers for the pre-attention decoder\n",
        "    pre_attention_decoder = pre_attention_decoder_fn(mode, target_vocab_size, d_model)\n",
        "\n",
        "    # Step 1: create a serial network\n",
        "    model = tl.Serial( \n",
        "        \n",
        "      # Step 2: copy input tokens and target tokens as they will be needed later.\n",
        "      tl.Select([0,1,0,1]),\n",
        "        \n",
        "      # Step 3: run input encoder on the input and pre-attention decoder the target.\n",
        "      tl.Parallel(input_encoder, pre_attention_decoder),\n",
        "        \n",
        "      # Step 4: prepare queries, keys, values and mask for attention.\n",
        "      tl.Fn('PrepareAttentionInput', prepare_attention_input, n_out=4),\n",
        "        \n",
        "      # Step 5: run the AttentionQKV layer\n",
        "      # nest it inside a Residual layer to add to the pre-attention decoder activations(i.e. queries)\n",
        "      tl.Residual(tl.AttentionQKV(d_model, n_heads=n_attention_heads, dropout=attention_dropout, mode=mode)),\n",
        "      \n",
        "      # Step 6: drop attention mask (i.e. index = None\n",
        "      tl.Select([0,2], n_in=3),\n",
        "        \n",
        "      # Step 7: run the rest of the RNN decoder\n",
        "      [tl.LSTM(n_units = d_model) for _ in range(n_decoder_layers)],\n",
        "        \n",
        "      # Step 8: prepare output by making it the right size\n",
        "      tl.Dense(target_vocab_size),\n",
        "        \n",
        "      # Step 9: Log-softmax for output\n",
        "      tl.LogSoftmax()\n",
        "    )\n",
        "    \n",
        "    ### END CODE HERE\n",
        "    \n",
        "    return model"
      ],
      "execution_count": 21,
      "outputs": []
    },
    {
      "cell_type": "code",
      "metadata": {
        "colab": {
          "base_uri": "https://localhost:8080/"
        },
        "id": "fIuhSO4jqVv9",
        "outputId": "8bd45a95-5418-49c2-d96e-57b12550aafa"
      },
      "source": [
        "# print your model\n",
        "model = NMTAttn()\n",
        "print(model)"
      ],
      "execution_count": 22,
      "outputs": [
        {
          "output_type": "stream",
          "text": [
            "Serial_in2_out2[\n",
            "  Select[0,1,0,1]_in2_out4\n",
            "  Parallel_in2_out2[\n",
            "    Serial[\n",
            "      Embedding_33300_1024\n",
            "      LSTM_1024\n",
            "      LSTM_1024\n",
            "    ]\n",
            "    Serial[\n",
            "      ShiftRight(1)\n",
            "      Embedding_33300_1024\n",
            "      LSTM_1024\n",
            "    ]\n",
            "  ]\n",
            "  PrepareAttentionInput_in3_out4\n",
            "  Serial_in4_out2[\n",
            "    Branch_in4_out3[\n",
            "      None\n",
            "      Serial_in4_out2[\n",
            "        Parallel_in3_out3[\n",
            "          Dense_1024\n",
            "          Dense_1024\n",
            "          Dense_1024\n",
            "        ]\n",
            "        PureAttention_in4_out2\n",
            "        Dense_1024\n",
            "      ]\n",
            "    ]\n",
            "    Add_in2\n",
            "  ]\n",
            "  Select[0,2]_in3_out2\n",
            "  LSTM_1024\n",
            "  LSTM_1024\n",
            "  Dense_33300\n",
            "  LogSoftmax\n",
            "]\n"
          ],
          "name": "stdout"
        }
      ]
    },
    {
      "cell_type": "markdown",
      "metadata": {
        "id": "kq7GNG012obm"
      },
      "source": [
        "# Training\n",
        "- The TrainTask class allows us to define the labeled data to use for training and the feedback mechanisms to compute the loss and update the weights."
      ]
    },
    {
      "cell_type": "code",
      "metadata": {
        "id": "pdG76MpoqVtO"
      },
      "source": [
        "train_task = training.TrainTask(\n",
        "    \n",
        "    ### START CODE HERE (REPLACE INSTANCES OF `None` WITH YOUR CODE) ###\n",
        "    \n",
        "    # use the train batch stream as labeled data\n",
        "    labeled_data= train_batch_stream,\n",
        "    \n",
        "    # use the cross entropy loss\n",
        "    loss_layer= tl.CrossEntropyLoss(),\n",
        "    \n",
        "    # use the Adam optimizer with learning rate of 0.01\n",
        "    optimizer= trax.optimizers.Adam(0.01),\n",
        "    \n",
        "    # use the `trax.lr.warmup_and_rsqrt_decay` as the learning rate schedule\n",
        "    # have 1000 warmup steps with a max value of 0.01\n",
        "    lr_schedule= trax.lr.warmup_and_rsqrt_decay(1000, 0.01),\n",
        "    \n",
        "    # have a checkpoint every 10 steps\n",
        "    n_steps_per_checkpoint= 10,\n",
        "    \n",
        "    ### END CODE HERE ###\n",
        ")"
      ],
      "execution_count": 23,
      "outputs": []
    },
    {
      "cell_type": "code",
      "metadata": {
        "id": "LEehAB-fqVrJ"
      },
      "source": [
        "eval_task = training.EvalTask(\n",
        "    \n",
        "    ## use the eval batch stream as labeled data\n",
        "    labeled_data=eval_batch_stream,\n",
        "    \n",
        "    ## use the cross entropy loss and accuracy as metrics\n",
        "    metrics=[tl.CrossEntropyLoss(), tl.Accuracy()],\n",
        ")"
      ],
      "execution_count": 24,
      "outputs": []
    },
    {
      "cell_type": "markdown",
      "metadata": {
        "id": "Jf3226a13U8d"
      },
      "source": [
        "The Loop class defines the model we will train as well as the train and eval tasks to execute. Its run() method allows us to execute the training for a specified number of steps"
      ]
    },
    {
      "cell_type": "code",
      "metadata": {
        "id": "MeuGuUtwqVoB"
      },
      "source": [
        "# define the output directory\n",
        "output_dir = 'output_dir/'\n",
        "\n",
        "# remove old model if it exists. restarts training.\n",
        "!rm -f ~/output_dir/model.pkl.gz  \n",
        "\n",
        "# define the training loop\n",
        "training_loop = training.Loop(NMTAttn(mode='train'),\n",
        "                              train_task,\n",
        "                              eval_tasks=[eval_task],\n",
        "                              output_dir=output_dir)"
      ],
      "execution_count": 25,
      "outputs": []
    },
    {
      "cell_type": "code",
      "metadata": {
        "colab": {
          "base_uri": "https://localhost:8080/"
        },
        "id": "P1ozhJ8bqVlW",
        "outputId": "3e15965e-24e5-4e44-f9db-52ae7045ca7d"
      },
      "source": [
        "# NOTE: Execute the training loop.\n",
        "training_loop.run(100)"
      ],
      "execution_count": 26,
      "outputs": [
        {
          "output_type": "stream",
          "text": [
            "\n",
            "Step      1: Ran 1 train steps in 79.05 secs\n",
            "Step      1: train CrossEntropyLoss |  10.40127087\n",
            "Step      1: eval  CrossEntropyLoss |  10.38144016\n",
            "Step      1: eval          Accuracy |  0.00000000\n",
            "\n",
            "Step     10: Ran 9 train steps in 108.27 secs\n",
            "Step     10: train CrossEntropyLoss |  10.22572041\n",
            "Step     10: eval  CrossEntropyLoss |  9.94177532\n",
            "Step     10: eval          Accuracy |  0.02429765\n",
            "\n",
            "Step     20: Ran 10 train steps in 85.27 secs\n",
            "Step     20: train CrossEntropyLoss |  9.41692352\n",
            "Step     20: eval  CrossEntropyLoss |  8.89921284\n",
            "Step     20: eval          Accuracy |  0.01420679\n",
            "\n",
            "Step     30: Ran 10 train steps in 99.34 secs\n",
            "Step     30: train CrossEntropyLoss |  7.83167982\n",
            "Step     30: eval  CrossEntropyLoss |  7.15352154\n",
            "Step     30: eval          Accuracy |  0.04581245\n",
            "\n",
            "Step     40: Ran 10 train steps in 89.77 secs\n",
            "Step     40: train CrossEntropyLoss |  7.31788778\n",
            "Step     40: eval  CrossEntropyLoss |  7.35434055\n",
            "Step     40: eval          Accuracy |  0.02682927\n",
            "\n",
            "Step     50: Ran 10 train steps in 87.78 secs\n",
            "Step     50: train CrossEntropyLoss |  7.31489182\n",
            "Step     50: eval  CrossEntropyLoss |  7.67166710\n",
            "Step     50: eval          Accuracy |  0.01599247\n",
            "\n",
            "Step     60: Ran 10 train steps in 101.26 secs\n",
            "Step     60: train CrossEntropyLoss |  7.02851963\n",
            "Step     60: eval  CrossEntropyLoss |  7.48724699\n",
            "Step     60: eval          Accuracy |  0.02359882\n",
            "\n",
            "Step     70: Ran 10 train steps in 89.66 secs\n",
            "Step     70: train CrossEntropyLoss |  7.27501678\n",
            "Step     70: eval  CrossEntropyLoss |  6.31600809\n",
            "Step     70: eval          Accuracy |  0.02764666\n",
            "\n",
            "Step     80: Ran 10 train steps in 88.69 secs\n",
            "Step     80: train CrossEntropyLoss |  6.99578857\n",
            "Step     80: eval  CrossEntropyLoss |  7.22658253\n",
            "Step     80: eval          Accuracy |  0.04471545\n",
            "\n",
            "Step     90: Ran 10 train steps in 90.97 secs\n",
            "Step     90: train CrossEntropyLoss |  7.37604284\n",
            "Step     90: eval  CrossEntropyLoss |  7.41295242\n",
            "Step     90: eval          Accuracy |  0.02821317\n",
            "\n",
            "Step    100: Ran 10 train steps in 90.04 secs\n",
            "Step    100: train CrossEntropyLoss |  7.37897253\n",
            "Step    100: eval  CrossEntropyLoss |  7.82900620\n",
            "Step    100: eval          Accuracy |  0.01548887\n"
          ],
          "name": "stdout"
        }
      ]
    },
    {
      "cell_type": "markdown",
      "metadata": {
        "id": "ZZEQwH107BYF"
      },
      "source": [
        "# Test the model\n",
        "- use training_loop.model in place of pretrained 'model' if required"
      ]
    },
    {
      "cell_type": "code",
      "metadata": {
        "id": "M03enOCmqViu"
      },
      "source": [
        "# instantiate the model we built in eval mode\n",
        "model = NMTAttn(mode='eval')\n",
        "\n",
        "# initialize weights from a pre-trained model\n",
        "model.init_from_file(\"model.pkl.gz\", weights_only=False)\n",
        "model = tl.Accelerate(model)"
      ],
      "execution_count": 24,
      "outputs": []
    },
    {
      "cell_type": "markdown",
      "metadata": {
        "id": "1sSxcY9jAD-n"
      },
      "source": [
        "## Decoding\n",
        "- \"Next symbol\" function: Gets next word using either Brute force or range of options based on temperature parameter\n",
        "- \"Sampling Decode\" function calls the next_symbol() function several times until the next output is the end-of-sentence token (i.e. EOS). It takes in an input string and returns the translated version of that string"
      ]
    },
    {
      "cell_type": "code",
      "metadata": {
        "id": "nQp8Su6XqVgF"
      },
      "source": [
        "def next_symbol(NMTAttn, input_tokens, cur_output_tokens, temperature):\n",
        "    \"\"\"Returns the index of the next token.\n",
        "\n",
        "    Args:\n",
        "        NMTAttn (tl.Serial): An LSTM sequence-to-sequence model with attention.\n",
        "        input_tokens (np.ndarray 1 x n_tokens): tokenized representation of the input sentence\n",
        "        cur_output_tokens (list): tokenized representation of previously translated words\n",
        "        temperature (float): parameter for sampling ranging from 0.0 to 1.0.\n",
        "            0.0: same as argmax, always pick the most probable token\n",
        "            1.0: sampling from the distribution (can sometimes say random things)\n",
        "\n",
        "    Returns:\n",
        "        int: index of the next token in the translated sentence\n",
        "        float: log probability of the next symbol\n",
        "    \"\"\"\n",
        "\n",
        "    ### START CODE HERE (REPLACE INSTANCES OF `None` WITH YOUR CODE) ###\n",
        "\n",
        "    # set the length of the current output tokens\n",
        "    token_length = len(cur_output_tokens)\n",
        "\n",
        "    # calculate next power of 2 for padding length \n",
        "    padded_length = int(2**np.ceil(np.log2(token_length+1)))\n",
        "\n",
        "    # pad cur_output_tokens up to the padded_length\n",
        "    padded = cur_output_tokens + [0] * padded_length #(padded_length-token_length)\n",
        "    \n",
        "    # model expects the output to have an axis for the batch size in front so\n",
        "    # convert `padded` list to a numpy array with shape (x, <padded_length>) where the\n",
        "    # x position is the batch axis. (hint: you can use np.expand_dims() with axis=0 to insert a new axis)\n",
        "    padded_with_batch = np.expand_dims(np.array(padded), axis=0)\n",
        "\n",
        "    # get the model prediction. remember to use the `NMTAttn` argument defined above.\n",
        "    # hint: the model accepts a tuple as input (e.g. `my_model((input1, input2))`)\n",
        "    output, _ = NMTAttn((input_tokens, padded_with_batch))\n",
        "    \n",
        "    # get log probabilities from the last token output\n",
        "    log_probs = output[1, token_length, :]\n",
        "\n",
        "    # get the next symbol by getting a logsoftmax sample (*hint: cast to an int)\n",
        "    symbol = int(tl.logsoftmax_sample(log_probs, temperature))\n",
        "    \n",
        "    ### END CODE HERE ###\n",
        "\n",
        "    return symbol, float(log_probs[symbol])\n"
      ],
      "execution_count": 25,
      "outputs": []
    },
    {
      "cell_type": "markdown",
      "metadata": {
        "id": "3xhKvo2FBq-V"
      },
      "source": [
        ""
      ]
    },
    {
      "cell_type": "code",
      "metadata": {
        "id": "_K_1MWZ2qVde"
      },
      "source": [
        "def sampling_decode(input_sentence, NMTAttn = None, temperature=0.0, vocab_file=None, vocab_dir=None):\n",
        "    \"\"\"Returns the translated sentence.\n",
        "\n",
        "    Args:\n",
        "        input_sentence (str): sentence to translate.\n",
        "        NMTAttn (tl.Serial): An LSTM sequence-to-sequence model with attention.\n",
        "        temperature (float): parameter for sampling ranging from 0.0 to 1.0.\n",
        "            0.0: same as argmax, always pick the most probable token\n",
        "            1.0: sampling from the distribution (can sometimes say random things)\n",
        "        vocab_file (str): filename of the vocabulary\n",
        "        vocab_dir (str): path to the vocabulary file\n",
        "\n",
        "    Returns:\n",
        "        tuple: (list, str, float)\n",
        "            list of int: tokenized version of the translated sentence\n",
        "            float: log probability of the translated sentence\n",
        "            str: the translated sentence\n",
        "    \"\"\"\n",
        "    \n",
        "    ### START CODE HERE (REPLACE INSTANCES OF `None` WITH YOUR CODE) ###\n",
        "    \n",
        "    # encode the input sentence\n",
        "    input_tokens = tokenize(input_sentence, vocab_file=vocab_file, vocab_dir=vocab_dir)\n",
        "    \n",
        "    # initialize the list of output tokens\n",
        "    cur_output_tokens = []\n",
        "    \n",
        "    # initialize an integer that represents the current output index\n",
        "    cur_output = 0\n",
        "    \n",
        "    # Set the encoding of the \"end of sentence\" as 1\n",
        "    EOS = 1\n",
        "    \n",
        "    # check that the current output is not the end of sentence token\n",
        "    while cur_output != EOS:\n",
        "        \n",
        "        # update the current output token by getting the index of the next word (hint: use next_symbol)\n",
        "        cur_output, log_prob = next_symbol(NMTAttn, input_tokens, cur_output_tokens, temperature)\n",
        "        \n",
        "        # append the current output token to the list of output tokens\n",
        "        cur_output_tokens.append(cur_output)\n",
        "    \n",
        "    # detokenize the output tokens\n",
        "    sentence = detokenize(cur_output_tokens, vocab_file=vocab_file, vocab_dir=vocab_dir)\n",
        "    \n",
        "    ### END CODE HERE ###\n",
        "    \n",
        "    return cur_output_tokens, log_prob, sentence"
      ],
      "execution_count": 26,
      "outputs": []
    },
    {
      "cell_type": "code",
      "metadata": {
        "id": "FmG5O10mqVat",
        "colab": {
          "base_uri": "https://localhost:8080/"
        },
        "outputId": "03daa8a9-9d70-42bd-9d79-9c0ba4c6904e"
      },
      "source": [
        "# Test the function above. Try varying the temperature setting with values from 0 to 1.\n",
        "# Run it several times with each setting and see how often the output changes.\n",
        "sampling_decode(\"I love languages.\", model, temperature=0.0, vocab_file=VOCAB_FILE, vocab_dir=VOCAB_DIR)"
      ],
      "execution_count": 27,
      "outputs": [
        {
          "output_type": "execute_result",
          "data": {
            "text/plain": [
              "([161, 12202, 5112, 3, 1], -0.0001735687255859375, 'Ich liebe Sprachen.')"
            ]
          },
          "metadata": {
            "tags": []
          },
          "execution_count": 27
        }
      ]
    },
    {
      "cell_type": "code",
      "metadata": {
        "id": "FWtipnfe32kz"
      },
      "source": [
        "def greedy_decode_test(sentence, NMTAttn=None, vocab_file=None, vocab_dir=None):\n",
        "    \"\"\"Prints the input and output of our NMTAttn model using greedy decode\n",
        "\n",
        "    Args:\n",
        "        sentence (str): a custom string.\n",
        "        NMTAttn (tl.Serial): An LSTM sequence-to-sequence model with attention.\n",
        "        vocab_file (str): filename of the vocabulary\n",
        "        vocab_dir (str): path to the vocabulary file\n",
        "\n",
        "    Returns:\n",
        "        str: the translated sentence\n",
        "    \"\"\"\n",
        "    \n",
        "    _,_, translated_sentence = sampling_decode(sentence, NMTAttn, vocab_file=vocab_file, vocab_dir=vocab_dir)\n",
        "    \n",
        "    print(\"English: \", sentence)\n",
        "    print(\"German: \", translated_sentence)\n",
        "    \n",
        "    return translated_sentence"
      ],
      "execution_count": 28,
      "outputs": []
    },
    {
      "cell_type": "code",
      "metadata": {
        "id": "tP7U5k6N32h_",
        "colab": {
          "base_uri": "https://localhost:8080/"
        },
        "outputId": "ef4de78b-c967-4bb4-a4d7-59ad69dec140"
      },
      "source": [
        "# put a custom string here\n",
        "your_sentence = 'I love languages.'\n",
        "\n",
        "greedy_decode_test(your_sentence, model, vocab_file=VOCAB_FILE, vocab_dir=VOCAB_DIR);"
      ],
      "execution_count": 29,
      "outputs": [
        {
          "output_type": "stream",
          "text": [
            "English:  I love languages.\n",
            "German:  Ich liebe Sprachen.\n"
          ],
          "name": "stdout"
        }
      ]
    },
    {
      "cell_type": "code",
      "metadata": {
        "id": "krm3uUQe32fD",
        "colab": {
          "base_uri": "https://localhost:8080/"
        },
        "outputId": "9cdaf238-76dc-4673-f17b-e2023e5028c3"
      },
      "source": [
        "greedy_decode_test('You are almost done with the assignment!', model, vocab_file=VOCAB_FILE, vocab_dir=VOCAB_DIR);"
      ],
      "execution_count": 30,
      "outputs": [
        {
          "output_type": "stream",
          "text": [
            "English:  You are almost done with the assignment!\n",
            "German:  Sie sind fast mit der Aufgabe fertig!\n"
          ],
          "name": "stdout"
        }
      ]
    },
    {
      "cell_type": "markdown",
      "metadata": {
        "id": "NMhp97jv7R5l"
      },
      "source": [
        "## Minimum Bayes-Risk Decoding or MBR\n",
        "getting the most probable token at each step may not necessarily produce the best results. Another approach is to do Minimum Bayes Risk Decoding or MBR. The general steps to implement this are:\n",
        "\n",
        "- take several random samples\n",
        "- score each sample against all other samples\n",
        "- select the one with the highest score"
      ]
    },
    {
      "cell_type": "code",
      "metadata": {
        "id": "FkSLp4d932cH"
      },
      "source": [
        "def generate_samples(sentence, n_samples, NMTAttn=None, temperature=0.6, vocab_file=None, vocab_dir=None):\n",
        "    \"\"\"Generates samples using sampling_decode()\n",
        "\n",
        "    Args:\n",
        "        sentence (str): sentence to translate.\n",
        "        n_samples (int): number of samples to generate\n",
        "        NMTAttn (tl.Serial): An LSTM sequence-to-sequence model with attention.\n",
        "        temperature (float): parameter for sampling ranging from 0.0 to 1.0.\n",
        "            0.0: same as argmax, always pick the most probable token\n",
        "            1.0: sampling from the distribution (can sometimes say random things)\n",
        "        vocab_file (str): filename of the vocabulary\n",
        "        vocab_dir (str): path to the vocabulary file\n",
        "        \n",
        "    Returns:\n",
        "        tuple: (list, list)\n",
        "            list of lists: token list per sample\n",
        "            list of floats: log probability per sample\n",
        "    \"\"\"\n",
        "    # define lists to contain samples and probabilities\n",
        "    samples, log_probs = [], []\n",
        "\n",
        "    # run a for loop to generate n samples\n",
        "    for _ in range(n_samples):\n",
        "        \n",
        "        # get a sample using the sampling_decode() function\n",
        "        sample, logp, _ = sampling_decode(sentence, NMTAttn, temperature, vocab_file=vocab_file, vocab_dir=vocab_dir)\n",
        "        \n",
        "        # append the token list to the samples list\n",
        "        samples.append(sample)\n",
        "        \n",
        "        # append the log probability to the log_probs list\n",
        "        log_probs.append(logp)\n",
        "                \n",
        "    return samples, log_probs"
      ],
      "execution_count": 31,
      "outputs": []
    },
    {
      "cell_type": "code",
      "metadata": {
        "id": "u9ZmCChN32ZV",
        "colab": {
          "base_uri": "https://localhost:8080/"
        },
        "outputId": "c98af121-7cd4-468a-adb1-c33888d3bfcf"
      },
      "source": [
        "# generate 4 samples with the default temperature (0.6)\n",
        "generate_samples('I love languages.', 4, model, vocab_file=VOCAB_FILE, vocab_dir=VOCAB_DIR)"
      ],
      "execution_count": 32,
      "outputs": [
        {
          "output_type": "execute_result",
          "data": {
            "text/plain": [
              "([[161, 12202, 5112, 3, 1],\n",
              "  [161, 12202, 5112, 3, 1],\n",
              "  [161, 12202, 5112, 3, 1],\n",
              "  [161, 12202, 5112, 3, 1]],\n",
              " [-0.0001735687255859375,\n",
              "  -0.0001735687255859375,\n",
              "  -0.0001735687255859375,\n",
              "  -0.0001735687255859375])"
            ]
          },
          "metadata": {
            "tags": []
          },
          "execution_count": 32
        }
      ]
    },
    {
      "cell_type": "markdown",
      "metadata": {
        "id": "bae-y6Ju7mx8"
      },
      "source": [
        "### Similarity measures"
      ]
    },
    {
      "cell_type": "code",
      "metadata": {
        "id": "j5X57KeT32Wh"
      },
      "source": [
        "def jaccard_similarity(candidate, reference):\n",
        "    \"\"\"Returns the Jaccard similarity between two token lists\n",
        "\n",
        "    Args:\n",
        "        candidate (list of int): tokenized version of the candidate translation\n",
        "        reference (list of int): tokenized version of the reference translation\n",
        "\n",
        "    Returns:\n",
        "        float: overlap between the two token lists\n",
        "    \"\"\"\n",
        "    \n",
        "    # convert the lists to a set to get the unique tokens\n",
        "    can_unigram_set, ref_unigram_set = set(candidate), set(reference)  \n",
        "    \n",
        "    # get the set of tokens common to both candidate and reference\n",
        "    joint_elems = can_unigram_set.intersection(ref_unigram_set)\n",
        "    \n",
        "    # get the set of all tokens found in either candidate or reference\n",
        "    all_elems = can_unigram_set.union(ref_unigram_set)\n",
        "    \n",
        "    # divide the number of joint elements by the number of all elements\n",
        "    overlap = len(joint_elems) / len(all_elems)\n",
        "    \n",
        "    return overlap"
      ],
      "execution_count": 33,
      "outputs": []
    },
    {
      "cell_type": "code",
      "metadata": {
        "id": "MMJ_ANc032Tn"
      },
      "source": [
        "def rouge1_similarity(system, reference):\n",
        "    \"\"\"Returns the ROUGE-1 score between two token lists\n",
        "\n",
        "    Args:\n",
        "        system (list of int): tokenized version of the system translation\n",
        "        reference (list of int): tokenized version of the reference translation\n",
        "\n",
        "    Returns:\n",
        "        float: overlap between the two token lists\n",
        "    \"\"\"    \n",
        "    \n",
        "    ### START CODE HERE (REPLACE INSTANCES OF `None` WITH YOUR CODE) ###\n",
        "    \n",
        "    # make a frequency table of the system tokens (hint: use the Counter class)\n",
        "    sys_counter = Counter(system)\n",
        "    \n",
        "    # make a frequency table of the reference tokens (hint: use the Counter class)\n",
        "    ref_counter = Counter(reference)\n",
        "    \n",
        "    # initialize overlap to 0\n",
        "    overlap = 0\n",
        "    \n",
        "    # run a for loop over the sys_counter object (can be treated as a dictionary)\n",
        "    for token in sys_counter:\n",
        "        \n",
        "        # lookup the value of the token in the sys_counter dictionary (hint: use the get() method)\n",
        "        token_count_sys = sys_counter.get(token, 0)\n",
        "        \n",
        "        # lookup the value of the token in the ref_counter dictionary (hint: use the get() method)\n",
        "        token_count_ref = ref_counter.get(token, 0)\n",
        "\n",
        "        # update the overlap by getting the smaller number between the two token counts above\n",
        "        overlap += min(token_count_sys,token_count_ref)\n",
        "    \n",
        "    # get the precision (i.e. number of overlapping tokens / number of system tokens)\n",
        "    precision = overlap / len(system)\n",
        "    \n",
        "    # get the recall (i.e. number of overlapping tokens / number of reference tokens)\n",
        "    recall = overlap / len(reference)\n",
        "    \n",
        "    if precision + recall != 0:\n",
        "        # compute the f1-score\n",
        "        rouge1_score = 2 * (precision * recall) / (precision + recall)\n",
        "    else:\n",
        "        rouge1_score = 0 \n",
        "    ### END CODE HERE ###\n",
        "    \n",
        "    return rouge1_score"
      ],
      "execution_count": 34,
      "outputs": []
    },
    {
      "cell_type": "code",
      "metadata": {
        "id": "HbFTLejU32Qm"
      },
      "source": [
        "def average_overlap(similarity_fn, samples, *ignore_params):\n",
        "    \"\"\"Returns the arithmetic mean of each candidate sentence in the samples\n",
        "\n",
        "    Args:\n",
        "        similarity_fn (function): similarity function used to compute the overlap\n",
        "        samples (list of lists): tokenized version of the translated sentences\n",
        "        *ignore_params: additional parameters will be ignored\n",
        "\n",
        "    Returns:\n",
        "        dict: scores of each sample\n",
        "            key: index of the sample\n",
        "            value: score of the sample\n",
        "    \"\"\"  \n",
        "    \n",
        "    # initialize dictionary\n",
        "    scores = {}\n",
        "    \n",
        "    # run a for loop for each sample\n",
        "    for index_candidate, candidate in enumerate(samples):    \n",
        "        \n",
        "        ### START CODE HERE (REPLACE INSTANCES OF `None` WITH YOUR CODE) ###\n",
        "        \n",
        "        # initialize overlap to 0.0\n",
        "        overlap = 0\n",
        "        \n",
        "        # run a for loop for each sample\n",
        "        for index_sample, sample in enumerate(samples): \n",
        "\n",
        "            # skip if the candidate index is the same as the sample index\n",
        "            if index_candidate == index_sample:\n",
        "                continue\n",
        "                \n",
        "            # get the overlap between candidate and sample using the similarity function\n",
        "            sample_overlap = similarity_fn(candidate, sample)\n",
        "            \n",
        "            # add the sample overlap to the total overlap\n",
        "            overlap += sample_overlap\n",
        "            \n",
        "        # get the score for the candidate by computing the average\n",
        "        score = overlap / (len(samples) - 1)\n",
        "        \n",
        "        # save the score in the dictionary. use index as the key.\n",
        "        scores[index_candidate] = score\n",
        "        \n",
        "        ### END CODE HERE ###\n",
        "    return scores"
      ],
      "execution_count": 35,
      "outputs": []
    },
    {
      "cell_type": "code",
      "metadata": {
        "id": "YSOTRZAX32N8"
      },
      "source": [
        "def weighted_avg_overlap(similarity_fn, samples, log_probs):\n",
        "    \"\"\"Returns the weighted mean of each candidate sentence in the samples\n",
        "\n",
        "    Args:\n",
        "        samples (list of lists): tokenized version of the translated sentences\n",
        "        log_probs (list of float): log probability of the translated sentences\n",
        "\n",
        "    Returns:\n",
        "        dict: scores of each sample\n",
        "            key: index of the sample\n",
        "            value: score of the sample\n",
        "    \"\"\"\n",
        "    \n",
        "    # initialize dictionary\n",
        "    scores = {}\n",
        "    \n",
        "    # run a for loop for each sample\n",
        "    for index_candidate, candidate in enumerate(samples):    \n",
        "        \n",
        "        # initialize overlap and weighted sum\n",
        "        overlap, weight_sum = 0.0, 0.0\n",
        "        \n",
        "        # run a for loop for each sample\n",
        "        for index_sample, (sample, logp) in enumerate(zip(samples, log_probs)):\n",
        "\n",
        "            # skip if the candidate index is the same as the sample index            \n",
        "            if index_candidate == index_sample:\n",
        "                continue\n",
        "                \n",
        "            # convert log probability to linear scale\n",
        "            sample_p = float(np.exp(logp))\n",
        "\n",
        "            # update the weighted sum\n",
        "            weight_sum += sample_p\n",
        "\n",
        "            # get the unigram overlap between candidate and sample\n",
        "            sample_overlap = similarity_fn(candidate, sample)\n",
        "            \n",
        "            # update the overlap\n",
        "            overlap += sample_p * sample_overlap\n",
        "            \n",
        "        # get the score for the candidate\n",
        "        score = overlap / weight_sum\n",
        "        \n",
        "        # save the score in the dictionary. use index as the key.\n",
        "        scores[index_candidate] = score\n",
        "    \n",
        "    return scores"
      ],
      "execution_count": 36,
      "outputs": []
    },
    {
      "cell_type": "markdown",
      "metadata": {
        "id": "hdjFGJD68OGm"
      },
      "source": [
        "#### generate samples, get the score for each sample, get the highest score among all samples, then detokenize this sample to get the translated sentence usign MBR"
      ]
    },
    {
      "cell_type": "code",
      "metadata": {
        "id": "ahj2kp0O32LA"
      },
      "source": [
        "def mbr_decode(sentence, n_samples, score_fn, similarity_fn, NMTAttn=None, temperature=0.6, vocab_file=None, vocab_dir=None):\n",
        "    \"\"\"Returns the translated sentence using Minimum Bayes Risk decoding\n",
        "\n",
        "    Args:\n",
        "        sentence (str): sentence to translate.\n",
        "        n_samples (int): number of samples to generate\n",
        "        score_fn (function): function that generates the score for each sample\n",
        "        similarity_fn (function): function used to compute the overlap between a pair of samples\n",
        "        NMTAttn (tl.Serial): An LSTM sequence-to-sequence model with attention.\n",
        "        temperature (float): parameter for sampling ranging from 0.0 to 1.0.\n",
        "            0.0: same as argmax, always pick the most probable token\n",
        "            1.0: sampling from the distribution (can sometimes say random things)\n",
        "        vocab_file (str): filename of the vocabulary\n",
        "        vocab_dir (str): path to the vocabulary file\n",
        "\n",
        "    Returns:\n",
        "        str: the translated sentence\n",
        "    \"\"\"\n",
        "    \n",
        "    ### START CODE HERE (REPLACE INSTANCES OF `None` WITH YOUR CODE) ###\n",
        "    # generate samples\n",
        "    samples, log_probs = generate_samples(sentence, n_samples, NMTAttn, temperature, vocab_file, vocab_dir)\n",
        "    \n",
        "    # use the scoring function to get a dictionary of scores\n",
        "    # pass in the relevant parameters as shown in the function definition of \n",
        "    # the mean methods you developed earlier\n",
        "    scores = score_fn(similarity_fn, samples, log_probs)\n",
        "    \n",
        "    # find the key with the highest score\n",
        "    max_index = max(scores)\n",
        "    \n",
        "    # detokenize the token list associated with the max_index\n",
        "    translated_sentence = detokenize(samples[max_index], vocab_file, vocab_dir)\n",
        "    \n",
        "    ### END CODE HERE ###\n",
        "    return (translated_sentence, max_index, scores)"
      ],
      "execution_count": 37,
      "outputs": []
    },
    {
      "cell_type": "code",
      "metadata": {
        "id": "IsO6K4-d32H9"
      },
      "source": [
        "TEMPERATURE = 0.6\n",
        "\n",
        "# put a custom string here\n",
        "your_sentence = 'She speaks English and German.'"
      ],
      "execution_count": 55,
      "outputs": []
    },
    {
      "cell_type": "code",
      "metadata": {
        "id": "8qyPVWA932Cc",
        "colab": {
          "base_uri": "https://localhost:8080/"
        },
        "outputId": "a5f06a53-1a96-4f4a-f064-2a96d7361508"
      },
      "source": [
        "print(your_sentence)\n",
        "print(colored('translation: ', 'red'), mbr_decode(your_sentence, 4, weighted_avg_overlap, jaccard_similarity, model, TEMPERATURE, vocab_file=VOCAB_FILE, vocab_dir=VOCAB_DIR)[0])"
      ],
      "execution_count": 56,
      "outputs": [
        {
          "output_type": "stream",
          "text": [
            "She speaks English and German.\n",
            "\u001b[31mtranslation: \u001b[0m Sie spricht Englisch und Deutsch.\n"
          ],
          "name": "stdout"
        }
      ]
    },
    {
      "cell_type": "code",
      "metadata": {
        "id": "HTHVK_di31_x",
        "colab": {
          "base_uri": "https://localhost:8080/"
        },
        "outputId": "260a4247-c26f-46aa-9a6d-ad461b10b34a"
      },
      "source": [
        "your_sentence = 'Congratulations!'\n",
        "print(your_sentence)\n",
        "print(colored('translation: ', 'red'), mbr_decode(your_sentence, 4, average_overlap, rouge1_similarity, model, TEMPERATURE, vocab_file=VOCAB_FILE, vocab_dir=VOCAB_DIR)[0])"
      ],
      "execution_count": 50,
      "outputs": [
        {
          "output_type": "stream",
          "text": [
            "Congratulations!\n",
            "\u001b[31mtranslation: \u001b[0m Herzlichen Glückwunsch!\n"
          ],
          "name": "stdout"
        }
      ]
    },
    {
      "cell_type": "code",
      "metadata": {
        "id": "OBc-Vod-318-",
        "colab": {
          "base_uri": "https://localhost:8080/"
        },
        "outputId": "500a5f12-17d1-4ba8-bddc-84d3c56790f6"
      },
      "source": [
        "your_sentence = 'You have completed the assignment!'\n",
        "print(your_sentence)\n",
        "print(colored('translation: ', 'red'), mbr_decode(your_sentence, 4, average_overlap, rouge1_similarity, model, TEMPERATURE, vocab_file=VOCAB_FILE, vocab_dir=VOCAB_DIR)[0])"
      ],
      "execution_count": 47,
      "outputs": [
        {
          "output_type": "stream",
          "text": [
            "You have completed the assignment!\n",
            "\u001b[31mtranslation: \u001b[0m Sie haben die Bestellung abgeschlossen!\n"
          ],
          "name": "stdout"
        }
      ]
    },
    {
      "cell_type": "code",
      "metadata": {
        "id": "dLXtKdfo316I"
      },
      "source": [
        ""
      ],
      "execution_count": null,
      "outputs": []
    },
    {
      "cell_type": "code",
      "metadata": {
        "id": "3a_Wke6T313R"
      },
      "source": [
        ""
      ],
      "execution_count": null,
      "outputs": []
    },
    {
      "cell_type": "code",
      "metadata": {
        "id": "E3i5vcG3310t"
      },
      "source": [
        ""
      ],
      "execution_count": null,
      "outputs": []
    },
    {
      "cell_type": "code",
      "metadata": {
        "id": "9IfgTjgq31xo"
      },
      "source": [
        ""
      ],
      "execution_count": null,
      "outputs": []
    },
    {
      "cell_type": "code",
      "metadata": {
        "id": "7v-xJ6i231vc"
      },
      "source": [
        ""
      ],
      "execution_count": null,
      "outputs": []
    },
    {
      "cell_type": "code",
      "metadata": {
        "id": "xO3_7ezH31sd"
      },
      "source": [
        ""
      ],
      "execution_count": null,
      "outputs": []
    },
    {
      "cell_type": "code",
      "metadata": {
        "id": "r9gzwCHj31p7"
      },
      "source": [
        ""
      ],
      "execution_count": null,
      "outputs": []
    },
    {
      "cell_type": "code",
      "metadata": {
        "id": "tpdAeyRj31nO"
      },
      "source": [
        ""
      ],
      "execution_count": null,
      "outputs": []
    },
    {
      "cell_type": "code",
      "metadata": {
        "id": "dYWcjEio31kN"
      },
      "source": [
        ""
      ],
      "execution_count": null,
      "outputs": []
    }
  ]
}